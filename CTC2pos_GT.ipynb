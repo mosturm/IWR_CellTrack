{
 "cells": [
  {
   "cell_type": "code",
   "execution_count": 1,
   "metadata": {},
   "outputs": [],
   "source": [
    "import os\n",
    "from PIL import Image\n",
    "import numpy as np\n",
    "from tifffile import imread"
   ]
  },
  {
   "cell_type": "code",
   "execution_count": 2,
   "metadata": {},
   "outputs": [],
   "source": [
    "def get_coordinates_and_ids_from_tif(tif_file):\n",
    "    image = imread(tif_file)\n",
    "    if len(image.shape) == 2:\n",
    "        height, width = image.shape\n",
    "    elif len(image.shape) == 3:\n",
    "        height, width, _ = image.shape\n",
    "    else:\n",
    "        raise ValueError(f\"Unexpected image shape {image.shape}\")\n",
    "\n",
    "    unique_ids = np.unique(image)\n",
    "    unique_ids = unique_ids[unique_ids != 0]\n",
    "\n",
    "    coords_and_ids = []\n",
    "    for cell_id in unique_ids:\n",
    "        y, x = np.where(image == cell_id)\n",
    "        \n",
    "        # Compute the mean of x and y and normalize\n",
    "        mean_x = np.mean(x) / width\n",
    "        mean_y = np.mean(y) / height\n",
    "        \n",
    "        coords_and_ids.append((mean_x, mean_y, cell_id))\n",
    "    \n",
    "    return coords_and_ids\n",
    "\n",
    "def process_folder(directory):\n",
    "    for folder in os.listdir(directory):\n",
    "        if folder.endswith('_GT'):\n",
    "            tra_folder = os.path.join(directory, folder, 'TRA')\n",
    "            \n",
    "            # Load track info\n",
    "            with open(os.path.join(tra_folder, 'man_track.txt'), 'r') as f:\n",
    "                lines = f.readlines()\n",
    "\n",
    "            track_info = {}\n",
    "            for line in lines:\n",
    "                L, B, E, P = map(int, line.strip().split())\n",
    "                track_info[L] = (B, E, P)\n",
    "\n",
    "            output_data = []\n",
    "            tif_files = sorted([f for f in os.listdir(tra_folder) if f.startswith('man_track') and f.endswith('.tif')])\n",
    "            \n",
    "            for tif_file in tif_files:\n",
    "                frame_number = int(tif_file[len(\"man_track\"):-len(\".tif\")])\n",
    "                coords_and_ids = get_coordinates_and_ids_from_tif(os.path.join(tra_folder, tif_file))\n",
    "                \n",
    "                for x, y, cell_id in coords_and_ids:\n",
    "                    B, E, P = track_info[cell_id]\n",
    "                    if B <= frame_number <= E:\n",
    "                        # Set split_id only for the frame where the split happens\n",
    "                        split_id = P if (P and B == frame_number) else 0\n",
    "                        output_data.append((x, y, 1, cell_id, split_id, 1, frame_number))\n",
    "            \n",
    "            with open(os.path.join(tra_folder, 'pos_GT.txt'), 'w') as f:\n",
    "                f.write(\"# x\\ty\\tr\\tid\\tsplit_id\\ts_prob\\tt\\n\")\n",
    "                for x, y, r, cell_id, split_id, s_prob, t in output_data:\n",
    "                    f.write(f\"{x}\\t{y}\\t{r}\\t{cell_id}\\t{split_id}\\t{s_prob}\\t{t}\\n\")\n",
    "\n",
    "\n",
    "\n"
   ]
  },
  {
   "cell_type": "code",
   "execution_count": 3,
   "metadata": {},
   "outputs": [],
   "source": [
    "directory = '/media/mo/Label/HUH_01_t/'\n",
    "process_folder(directory)"
   ]
  },
  {
   "cell_type": "code",
   "execution_count": null,
   "metadata": {},
   "outputs": [],
   "source": []
  }
 ],
 "metadata": {
  "kernelspec": {
   "display_name": "Python 3 (ipykernel)",
   "language": "python",
   "name": "python3"
  },
  "language_info": {
   "codemirror_mode": {
    "name": "ipython",
    "version": 3
   },
   "file_extension": ".py",
   "mimetype": "text/x-python",
   "name": "python",
   "nbconvert_exporter": "python",
   "pygments_lexer": "ipython3",
   "version": "3.10.9"
  }
 },
 "nbformat": 4,
 "nbformat_minor": 4
}
