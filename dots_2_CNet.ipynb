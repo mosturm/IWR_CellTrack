{
 "cells": [
  {
   "cell_type": "code",
   "execution_count": 1,
   "metadata": {},
   "outputs": [],
   "source": [
    "import numpy as np\n",
    "import cv2\n",
    "import matplotlib.pyplot as plt\n",
    "from PIL import Image\n",
    "import os\n",
    "import re"
   ]
  },
  {
   "cell_type": "code",
   "execution_count": 2,
   "metadata": {},
   "outputs": [],
   "source": [
    "def make_ini_pic(path_GT, t): \n",
    "    xl,yl,rl,idel,split_l,s_pr_l,t_vl= np.loadtxt('./'+path_GT+'/pos_GT.txt',skiprows=2, delimiter='\\t', usecols=(0,1,2,3,4,5,6), unpack=True)\n",
    "    y=(xl[t_vl==t] * 512)\n",
    "    x=((1-yl[t_vl==t]) * 512)\n",
    "    rl=rl[t_vl==t]\n",
    "\n",
    "    positions = list(zip(x, y))  # Convert x, y arrays to a list of (x, y) coordinate tuples\n",
    "    image_tensor = ind2CNet(positions,rl)  # Pass the positions list to the ind2CNet function\n",
    "\n",
    "    #image_tensor = cv2.rotate(image_tensor, cv2.ROTATE_90_COUNTERCLOCKWISE)\n",
    "   \n",
    "\n",
    " \n",
    "    save_dir='/home/mo/Desktop/IWR/Cell_GT_Proj/dots2CNet/id/'\n",
    "    \n",
    "    output_path = save_dir+str(t)+'.jpg'\n",
    "    #output_path_Y_c = save_dir+'source/'+str(start_ind+i)+'contr.png'\n",
    "\n",
    "    cv2.imwrite(output_path, image_tensor)\n",
    "    image_rgb = cv2.cvtColor(image_tensor, cv2.COLOR_GRAY2RGB)\n",
    "    plt.imshow(image_rgb)\n",
    "    plt.axis('off')\n",
    "    plt.show()\n",
    "    \n",
    "    \n",
    "def make_id_pic(path_GT, t): \n",
    "    xl,yl,rl,idel,split_l,s_pr_l,t_vl= np.loadtxt('./'+path_GT+'/pos_GT.txt',skiprows=2, delimiter='\\t', usecols=(0,1,2,3,4,5,6), unpack=True)\n",
    "    x=(xl[t_vl==t] * 512)\n",
    "    y=(yl[t_vl==t] * 512)\n",
    "    ide=idel[t_vl==t]\n",
    "\n",
    "    positions = list(zip(x, y))  # Convert x, y arrays to a list of (x, y) coordinate tuples\n",
    "    image_tensor = ind2id(positions,idel,ide)  # Pass the positions list to the ind2CNet function\n",
    "\n",
    "    image_tensor = cv2.rotate(image_tensor, cv2.ROTATE_90_COUNTERCLOCKWISE)\n",
    "   \n",
    "\n",
    " \n",
    "    save_dir='/home/mo/Desktop/IWR/Cell_GT_Proj/dots2CNet/id/'\n",
    "    \n",
    "    output_path = save_dir+str(t)+'.jpg'\n",
    "    #output_path_Y_c = save_dir+'source/'+str(start_ind+i)+'contr.png'\n",
    "\n",
    "    cv2.imwrite(output_path, image_tensor)\n",
    "    image_rgb = cv2.cvtColor(image_tensor, cv2.COLOR_GRAY2RGB)\n",
    "    plt.imshow(image_rgb)\n",
    "    plt.axis('off')\n",
    "    plt.show()\n",
    "    \n",
    "    \n",
    "    \n",
    "def make_circ_pic(path_GT, t): \n",
    "    xl,yl,rl,idel,split_l,s_pr_l,t_vl= np.loadtxt('./'+path_GT+'/pos_GT.txt',skiprows=1, delimiter='\\t', usecols=(0,1,2,3,4,5,6), unpack=True)\n",
    "    x=(xl[t_vl==t] * 512)\n",
    "    y=(yl[t_vl==t] * 512)\n",
    "    rl=rl[t_vl==t]\n",
    "\n",
    "    positions = list(zip(x, y))  # Convert x, y arrays to a list of (x, y) coordinate tuples\n",
    "    image_tensor = ind2circ(positions,rl)  # Pass the positions list to the ind2CNet function\n",
    "\n",
    "    image_tensor = cv2.rotate(image_tensor, cv2.ROTATE_90_COUNTERCLOCKWISE)\n",
    "   \n",
    "\n",
    " \n",
    "    save_dir='/home/mo/Desktop/IWR/Cell_GT_Proj/dots2CNet/'\n",
    "    \n",
    "    output_path = save_dir+'/circ/'+str(t)+'.jpg'\n",
    "    #output_path_Y_c = save_dir+'source/'+str(start_ind+i)+'contr.png'\n",
    "\n",
    "    cv2.imwrite(output_path, image_tensor)\n",
    "    #image_rgb = cv2.cvtColor(image_tensor, cv2.COLOR_GRAY2RGB)\n",
    "    #plt.imshow(image_rgb)\n",
    "    plt.axis('off')\n",
    "    plt.show()\n",
    "\n",
    "\n",
    "def ind2CNet(ind_list,values):\n",
    "\n",
    "    image_tensor =  np.zeros((512, 512),dtype=np.uint8)\n",
    "\n",
    "    # Define the radius of the ball\n",
    "    #radius = 5\n",
    "\n",
    "    # Define the color of the ball (white)\n",
    "    #color = (255, 255, 255)\n",
    "\n",
    "    # Define the list of positions\n",
    "    #positions = ind_list\n",
    "    #print('ind',ind_list)\n",
    "\n",
    "\n",
    "\n",
    "    for position, value in zip(ind_list, values):\n",
    "        x, y = int(position[0]), int(position[1])\n",
    "        value=value*512\n",
    "        radius = int(map_value_linear(np.pi*(value**2), 10, 1500, 2, 8))\n",
    "        print(value,radius)\n",
    "\n",
    "        # Draw a circle with the given radius and color\n",
    "        for i in range(-radius, radius+1):\n",
    "            for j in range(-radius, radius+1):\n",
    "                if i**2 + j**2 <= radius**2:\n",
    "                    try:\n",
    "                        image_tensor[x+i, y+j] = 255\n",
    "                    except IndexError:\n",
    "                        pass\n",
    "\n",
    "    return image_tensor\n",
    "\n",
    "def sort_key(file_name):\n",
    "    # Extract the number from the file name\n",
    "    number = re.findall(r'\\d+', file_name)\n",
    "    if number:\n",
    "        return int(number[0])\n",
    "    else:\n",
    "        return 0\n",
    "\n",
    "def ind2circ(ind_list,values):\n",
    "    # Define the image tensor with 3 channels (RGB)\n",
    "    image_tensor =  np.ones((512, 512, 3), dtype=np.uint8)*255\n",
    "\n",
    "    # Define the radius of the circle\n",
    "    #radius = 15\n",
    "\n",
    "    # Define the color of the circle (red)\n",
    "    color = (0, 0, 255)\n",
    "\n",
    "    # Define the list of positions\n",
    "    #positions = ind_list\n",
    "    \n",
    "    for position, value in zip(ind_list, values):\n",
    "        x, y = int(position[0]), int(position[1])\n",
    "        radius = int(value *(15/0.035))\n",
    "        \n",
    "         # Draw a circle with the given radius and color\n",
    "        for i in range(-radius, radius+1):\n",
    "            for j in range(-radius, radius+1):\n",
    "                if (i**2 + j**2) >= (radius-1)**2 and (i**2 + j**2) <= (radius+1)**2:\n",
    "                    try:\n",
    "                        image_tensor[x+i, y+j] = color\n",
    "                    except IndexError:\n",
    "                        pass\n",
    "    return image_tensor\n",
    "\n",
    "\n",
    "def ind2id(ind_list,idel,ide):\n",
    "    \n",
    "    max_id = np.max(idel)\n",
    "    \n",
    "    c_list = np.linspace(100,255,int(max_id))\n",
    "\n",
    "    image_tensor =  np.zeros((512, 512),dtype=np.uint8)\n",
    "\n",
    "    # Define the radius of the ball\n",
    "    radius = 5\n",
    "\n",
    "    # Define the color of the ball (white)\n",
    "    #color = (255, 255, 255)\n",
    "\n",
    "    # Define the list of positions\n",
    "    positions = ind_list\n",
    "    #print('ind',ind_list)\n",
    "\n",
    "\n",
    "    k=0\n",
    "    # Loop over the positions and draw a circle around each one\n",
    "    for position in positions:\n",
    "        # Convert the position to integer coordinates\n",
    "        #try:\n",
    "        x, y = int(position[0]), int(position[1])\n",
    "        \n",
    "        print('**',x,y,ide[k],c_list[int(ide[k]-1)])\n",
    "\n",
    "        # Draw a circle with the given radius and color\n",
    "        for i in range(-radius, radius+1):\n",
    "            for j in range(-radius, radius+1):\n",
    "                if i**2 + j**2 <= radius**2:\n",
    "                    try:\n",
    "                        image_tensor[x+i, y+j] = c_list[int(ide[k]-1)]\n",
    "                    except IndexError:\n",
    "                        pass#print('IndErr',i,j)\n",
    "                    \n",
    "        k=k+1\n",
    "        #except: \n",
    "           # pass\n",
    "\n",
    "\n",
    "    return image_tensor\n",
    "\n",
    "\n",
    "def combine_images(image_folder, circle_folder):\n",
    "    # Sort file lists\n",
    "    image_files = sorted(os.listdir(image_folder),key=sort_key)\n",
    "    print('image_files',image_files)\n",
    "    circle_files = sorted(os.listdir(circle_folder),key=sort_key)\n",
    "    print('circ_files',circle_files)\n",
    "\n",
    "    for img_file, circle_file in zip(image_files, circle_files):\n",
    "        # Open the base image and the circle image\n",
    "        image = Image.open(os.path.join(image_folder, img_file))\n",
    "        circle_image = Image.open(os.path.join(circle_folder, circle_file))\n",
    "        \n",
    "        circle_image = circle_image.convert(\"RGBA\")\n",
    "        datas = circle_image.getdata()\n",
    "\n",
    "        new_data = []\n",
    "        for item in datas:\n",
    "            # change all white (also shades of whites)\n",
    "            # pixels to transparent\n",
    "            if item[1] > 40 and item[2] > 40:\n",
    "                new_data.append((item[0], item[1], item[2], 0))\n",
    "            else:\n",
    "                new_data.append(item)\n",
    "                \n",
    "        circle_image.putdata(new_data)\n",
    "\n",
    "        # Scale the circle image\n",
    "        circle_image = circle_image.resize((512, 512), Image.ANTIALIAS)\n",
    "\n",
    "        # Copy the circle layer onto the base image\n",
    "        image.paste(circle_image, (0,0), circle_image)\n",
    "\n",
    "        # Save the resulting image\n",
    "        image.save(os.path.join(image_folder, \"combined_\" + img_file))\n",
    "\n",
    "        \n",
    "        \n",
    "def map_value_linear(value, in_min, in_max, out_min, out_max):\n",
    "    # Ensure the input value is within the input range\n",
    "    value = max(min(value, in_max), in_min)\n",
    "    \n",
    "    if value==in_min:\n",
    "        return 1\n",
    "    elif value== in_max:\n",
    "        return 8\n",
    "\n",
    "    # Map the value to the output range using linear interpolation\n",
    "    return int((value - in_min) * (out_max - out_min) / (in_max - in_min) + out_min)\n"
   ]
  },
  {
   "cell_type": "code",
   "execution_count": 3,
   "metadata": {},
   "outputs": [
    {
     "name": "stdout",
     "output_type": "stream",
     "text": [
      "15.306018263841683 4\n",
      "15.981233673314978 5\n",
      "17.788785184738533 5\n",
      "18.530248507183877 6\n",
      "15.19203251177454 4\n",
      "16.00060218955344 5\n",
      "12.834182335720453 4\n"
     ]
    },
    {
     "data": {
      "image/png": "[encoded data removed]",
      "text/plain": [
       "<Figure size 640x480 with 1 Axes>"
      ]
     },
     "metadata": {},
     "output_type": "display_data"
    },
    {
     "name": "stdout",
     "output_type": "stream",
     "text": [
      "16.016602791742994 5\n",
      "15.321324282105522 4\n",
      "15.997214906988292 5\n",
      "15.207224544286314 4\n",
      "18.357848375984965 6\n",
      "17.80657396992327 5\n",
      "12.847016518056172 4\n"
     ]
    },
    {
     "data": {
      "image/png": "[encoded data removed]",
      "text/plain": [
       "<Figure size 640x480 with 1 Axes>"
      ]
     },
     "metadata": {},
     "output_type": "display_data"
    },
    {
     "name": "stdout",
     "output_type": "stream",
     "text": [
      "15.222431768830598 4\n",
      "15.336645606387625 4\n",
      "17.82438054389319 5\n",
      "18.09101585052568 6\n",
      "16.032619394534734 5\n",
      "16.01321212189528 5\n",
      "12.859863534574227 4\n"
     ]
    },
    {
     "data": {
      "image/png": "[encoded data removed]",
      "text/plain": [
       "<Figure size 640x480 with 1 Axes>"
      ]
     },
     "metadata": {},
     "output_type": "display_data"
    },
    {
     "name": "stdout",
     "output_type": "stream",
     "text": [
      "15.237654200599426 4\n",
      "12.8727233981088 4\n",
      "17.842204924437084 5\n",
      "16.048652013929267 5\n",
      "15.351982251994011 4\n",
      "17.67802546503211 5\n",
      "16.029225334017173 5\n"
     ]
    },
    {
     "data": {
      "image/png": "[encoded data removed]",
      "text/plain": [
       "<Figure size 640x480 with 1 Axes>"
      ]
     },
     "metadata": {},
     "output_type": "display_data"
    },
    {
     "name": "stdout",
     "output_type": "stream",
     "text": [
      "16.064700665943196 5\n",
      "12.885596121506907 4\n",
      "15.252891854800025 4\n",
      "17.86004712936152 5\n",
      "15.367334234246004 4\n",
      "17.038819063126844 5\n",
      "16.04525455935119 5\n"
     ]
    },
    {
     "data": {
      "image/png": "[encoded data removed]",
      "text/plain": [
       "<Figure size 640x480 with 1 Axes>"
      ]
     },
     "metadata": {},
     "output_type": "display_data"
    },
    {
     "name": "stdout",
     "output_type": "stream",
     "text": [
      "16.08076536660914 5\n",
      "15.382701568480249 4\n",
      "15.268144746654823 4\n",
      "16.049486530001708 5\n",
      "16.061299813910537 5\n",
      "12.898481717628412 4\n",
      "17.87790717649088 6\n"
     ]
    },
    {
     "data": {
      "image/png": "[encoded data removed]",
      "text/plain": [
       "<Figure size 640x480 with 1 Axes>"
      ]
     },
     "metadata": {},
     "output_type": "display_data"
    },
    {
     "name": "stdout",
     "output_type": "stream",
     "text": [
      "15.398084270048727 4\n",
      "16.096846131975745 5\n",
      "12.91138019934604 4\n",
      "16.077361113724447 5\n",
      "17.895785083667366 6\n",
      "15.283412891401476 4\n",
      "14.518245825618314 4\n"
     ]
    },
    {
     "data": {
      "image/png": "[encoded data removed]",
      "text/plain": [
       "<Figure size 640x480 with 1 Axes>"
      ]
     },
     "metadata": {},
     "output_type": "display_data"
    },
    {
     "name": "stdout",
     "output_type": "stream",
     "text": [
      "16.112942978107718 5\n",
      "12.148266050108406 3\n",
      "16.09343847483817 5\n",
      "15.413482354318774 4\n",
      "15.298696304292875 4\n",
      "12.924291579545384 4\n",
      "17.913680868751033 6\n"
     ]
    },
    {
     "data": {
      "image/png": "[encoded data removed]",
      "text/plain": [
       "<Figure size 640x480 with 1 Axes>"
      ]
     },
     "metadata": {},
     "output_type": "display_data"
    },
    {
     "name": "stdout",
     "output_type": "stream",
     "text": [
      "12.937215871124929 4\n",
      "15.313995000597167 4\n",
      "16.129055921085822 5\n",
      "17.93159454961978 6\n",
      "15.42889583667309 4\n",
      "16.109531913313006 5\n",
      "7.326205539994333 2\n",
      "7.326205539994333 2\n"
     ]
    },
    {
     "data": {
      "image/png": "[encoded data removed]",
      "text/plain": [
       "<Figure size 640x480 with 1 Axes>"
      ]
     },
     "metadata": {},
     "output_type": "display_data"
    },
    {
     "name": "stdout",
     "output_type": "stream",
     "text": [
      "16.145184977006906 5\n",
      "7.3335317455343265 2\n",
      "7.3335317455343265 2\n",
      "16.125641445226318 5\n",
      "15.329308995597762 4\n",
      "17.9495261441694 6\n",
      "15.444324732509761 4\n",
      "12.950153086996051 4\n"
     ]
    },
    {
     "data": {
      "image/png": "[encoded data removed]",
      "text/plain": [
       "<Figure size 640x480 with 1 Axes>"
      ]
     },
     "metadata": {},
     "output_type": "display_data"
    },
    {
     "name": "stdout",
     "output_type": "stream",
     "text": [
      "17.96747567031357 6\n",
      "16.141767086671543 5\n",
      "15.344638304593358 4\n",
      "12.963103240083045 4\n",
      "15.45976905724227 4\n",
      "16.161330161983912 5\n",
      "7.34086527727986 2\n",
      "7.34086527727986 2\n"
     ]
    },
    {
     "data": {
      "image/png": "[encoded data removed]",
      "text/plain": [
       "<Figure size 640x480 with 1 Axes>"
      ]
     },
     "metadata": {},
     "output_type": "display_data"
    },
    {
     "name": "stdout",
     "output_type": "stream",
     "text": [
      "7.34820614255714 2\n",
      "15.35998294289795 4\n",
      "16.15790885375821 5\n",
      "16.177491492145894 5\n",
      "17.98544314598388 6\n",
      "12.976066343323128 4\n",
      "7.34820614255714 2\n",
      "15.47522882629951 4\n"
     ]
    },
    {
     "data": {
      "image/png": "[encoded data removed]",
      "text/plain": [
       "<Figure size 640x480 with 1 Axes>"
      ]
     },
     "metadata": {},
     "output_type": "display_data"
    },
    {
     "name": "stdout",
     "output_type": "stream",
     "text": [
      "18.00342858912986 6\n",
      "7.355554348699696 2\n",
      "15.375342925840847 4\n",
      "16.193668983638037 5\n",
      "15.490704055125807 4\n",
      "7.355554348699696 2\n",
      "16.174066762611968 5\n",
      "12.98904240966645 4\n"
     ]
    },
    {
     "data": {
      "image/png": "[encoded data removed]",
      "text/plain": [
       "<Figure size 640x480 with 1 Axes>"
      ]
     },
     "metadata": {},
     "output_type": "display_data"
    },
    {
     "name": "stdout",
     "output_type": "stream",
     "text": [
      "16.190240829374577 5\n",
      "15.390718268766687 4\n",
      "15.50619475918093 5\n",
      "7.362909903048395 2\n",
      "7.362909903048395 2\n",
      "18.02143201771899 6\n",
      "13.002031452076114 4\n",
      "16.209862652621673 5\n"
     ]
    },
    {
     "data": {
      "image/png": "[encoded data removed]",
      "text/plain": [
       "<Figure size 640x480 with 1 Axes>"
      ]
     },
     "metadata": {},
     "output_type": "display_data"
    },
    {
     "name": "stdout",
     "output_type": "stream",
     "text": [
      "13.015033483528189 4\n",
      "15.52170095394011 5\n",
      "7.370272812951443 2\n",
      "18.03945344973671 6\n",
      "16.226072515274293 5\n",
      "7.370272812951443 2\n",
      "16.20643107020395 5\n",
      "15.406108987035452 4\n"
     ]
    },
    {
     "data": {
      "image/png": "[encoded data removed]",
      "text/plain": [
       "<Figure size 640x480 with 1 Axes>"
      ]
     },
     "metadata": {},
     "output_type": "display_data"
    },
    {
     "name": "stdout",
     "output_type": "stream",
     "text": [
      "7.377643085764394 2\n",
      "18.057492903186443 6\n",
      "15.421515096022485 4\n",
      "16.222637501274153 5\n",
      "16.242298587789566 5\n",
      "15.537222654894048 5\n",
      "13.028048517011715 4\n",
      "7.377643085764394 2\n"
     ]
    },
    {
     "data": {
      "image/png": "[encoded data removed]",
      "text/plain": [
       "<Figure size 640x480 with 1 Axes>"
      ]
     },
     "metadata": {},
     "output_type": "display_data"
    },
    {
     "name": "stdout",
     "output_type": "stream",
     "text": [
      "18.07555039608963 6\n",
      "7.385020728850157 2\n",
      "15.436936611118506 4\n",
      "13.041076565528726 4\n",
      "15.55275987754894 5\n",
      "16.258540886377354 5\n",
      "16.238860138775426 5\n",
      "7.385020728850157 2\n"
     ]
    },
    {
     "data": {
      "image/png": "[encoded data removed]",
      "text/plain": [
       "<Figure size 640x480 with 1 Axes>"
      ]
     },
     "metadata": {},
     "output_type": "display_data"
    },
    {
     "name": "stdout",
     "output_type": "stream",
     "text": [
      "15.452373547729623 4\n",
      "7.392405749579006 2\n",
      "13.054117642094253 4\n",
      "16.2550989989142 5\n",
      "7.392405749579006 2\n",
      "15.568312637426487 5\n",
      "16.27479942726373 5\n",
      "18.093625946485716 6\n"
     ]
    },
    {
     "data": {
      "image/png": "[encoded data removed]",
      "text/plain": [
       "<Figure size 640x480 with 1 Axes>"
      ]
     },
     "metadata": {},
     "output_type": "display_data"
    },
    {
     "name": "stdout",
     "output_type": "stream",
     "text": [
      "18.1117195724322 6\n",
      "16.29107422669099 5\n",
      "15.46782592127735 4\n",
      "7.399798155328584 2\n",
      "13.067171759736345 4\n",
      "7.399798155328584 2\n",
      "15.583880950063913 5\n",
      "16.27135409791311 5\n"
     ]
    },
    {
     "data": {
      "image/png": "[encoded data removed]",
      "text/plain": [
       "<Figure size 640x480 with 1 Axes>"
      ]
     },
     "metadata": {},
     "output_type": "display_data"
    },
    {
     "name": "stdout",
     "output_type": "stream",
     "text": [
      "18.12983129200463 6\n",
      "13.08023893149608 4\n",
      "15.483293747198626 4\n",
      "16.30736530091768 5\n",
      "7.407197953483912 2\n",
      "15.599464831013975 5\n",
      "7.407197953483912 2\n",
      "16.28762545201102 5\n"
     ]
    },
    {
     "data": {
      "image/png": "[encoded data removed]",
      "text/plain": [
       "<Figure size 640x480 with 1 Axes>"
      ]
     },
     "metadata": {},
     "output_type": "display_data"
    },
    {
     "name": "stdout",
     "output_type": "stream",
     "text": [
      "16.30391307746303 5\n",
      "15.615064295844988 5\n",
      "7.414605151437395 2\n",
      "7.414605151437395 2\n",
      "18.147961123296636 6\n",
      "13.093319170427575 4\n",
      "16.323672666218595 5\n",
      "15.498777040945823 4\n"
     ]
    },
    {
     "data": {
      "image/png": "[encoded data removed]",
      "text/plain": [
       "<Figure size 640x480 with 1 Axes>"
      ]
     },
     "metadata": {},
     "output_type": "display_data"
    },
    {
     "name": "stdout",
     "output_type": "stream",
     "text": [
      "15.514275817986768 5\n",
      "18.16610908441993 6\n",
      "13.106412489598002 4\n",
      "7.422019756588831 2\n",
      "15.630679360140832 5\n",
      "7.422019756588831 2\n",
      "16.339996338884813 5\n",
      "16.32021699054049 5\n"
     ]
    },
    {
     "data": {
      "image/png": "[encoded data removed]",
      "text/plain": [
       "<Figure size 640x480 with 1 Axes>"
      ]
     },
     "metadata": {},
     "output_type": "display_data"
    },
    {
     "name": "stdout",
     "output_type": "stream",
     "text": [
      "7.42944177634542 2\n",
      "16.356336335223695 5\n",
      "15.529790093804753 5\n",
      "7.42944177634542 2\n",
      "16.33653720753103 5\n",
      "18.184275193504348 6\n",
      "13.119518902087599 4\n",
      "15.646310039500971 5\n"
     ]
    },
    {
     "data": {
      "image/png": "[encoded data removed]",
      "text/plain": [
       "<Figure size 640x480 with 1 Axes>"
      ]
     },
     "metadata": {},
     "output_type": "display_data"
    },
    {
     "name": "stdout",
     "output_type": "stream",
     "text": [
      "16.35287374473856 5\n",
      "7.436871218121764 2\n",
      "18.20245946869785 6\n",
      "15.661956349540471 5\n",
      "13.132638420989684 4\n",
      "16.372692671558916 5\n",
      "15.545319883898555 5\n",
      "7.436871218121764 2\n"
     ]
    },
    {
     "data": {
      "image/png": "[encoded data removed]",
      "text/plain": [
       "<Figure size 640x480 with 1 Axes>"
      ]
     },
     "metadata": {},
     "output_type": "display_data"
    },
    {
     "name": "stdout",
     "output_type": "stream",
     "text": [
      "13.145771059410672 4\n",
      "16.369226618483296 5\n",
      "18.220661928166546 6\n",
      "7.444308089339885 2\n",
      "15.67761830589001 5\n",
      "15.560865203782452 5\n",
      "7.444308089339885 2\n",
      "16.389065364230472 5\n"
     ]
    },
    {
     "data": {
      "image/png": "[encoded data removed]",
      "text/plain": [
       "<Figure size 640x480 with 1 Axes>"
      ]
     },
     "metadata": {},
     "output_type": "display_data"
    },
    {
     "name": "stdout",
     "output_type": "stream",
     "text": [
      "18.23888259009471 6\n",
      "15.576426068986233 5\n",
      "7.451752397429225 2\n",
      "15.693295924195898 5\n",
      "16.38559584510178 5\n",
      "16.405454429594702 5\n",
      "13.158916830470082 4\n",
      "7.451752397429225 2\n"
     ]
    },
    {
     "data": {
      "image/png": "[encoded data removed]",
      "text/plain": [
       "<Figure size 640x480 with 1 Axes>"
      ]
     },
     "metadata": {},
     "output_type": "display_data"
    },
    {
     "name": "stdout",
     "output_type": "stream",
     "text": [
      "18.257121472684805 6\n",
      "15.592002495055217 5\n",
      "7.459204149826653 2\n",
      "16.421859884024293 5\n",
      "7.459204149826653 2\n",
      "16.40198144094688 5\n",
      "13.17207574730055 4\n",
      "15.708989220120092 5\n"
     ]
    },
    {
     "data": {
      "image/png": "[encoded data removed]",
      "text/plain": [
       "<Figure size 640x480 with 1 Axes>"
      ]
     },
     "metadata": {},
     "output_type": "display_data"
    },
    {
     "name": "stdout",
     "output_type": "stream",
     "text": [
      "16.418383422387826 5\n",
      "7.466663353976479 2\n",
      "13.185247823047849 4\n",
      "18.275378594157488 6\n",
      "16.438281743908316 5\n",
      "15.724698209340211 5\n",
      "15.60759449755027 5\n",
      "7.466663353976479 2\n"
     ]
    },
    {
     "data": {
      "image/png": "[encoded data removed]",
      "text/plain": [
       "<Figure size 640x480 with 1 Axes>"
      ]
     },
     "metadata": {},
     "output_type": "display_data"
    },
    {
     "name": "stdout",
     "output_type": "stream",
     "text": [
      "16.45472002565222 5\n",
      "18.293653972751642 6\n",
      "15.740422907549549 5\n",
      "7.474130017330454 2\n",
      "13.198433070870895 4\n",
      "15.62320209204782 5\n",
      "16.434801805810213 5\n",
      "7.474130017330454 2\n"
     ]
    },
    {
     "data": {
      "image/png": "[encoded data removed]",
      "text/plain": [
       "<Figure size 640x480 with 1 Axes>"
      ]
     },
     "metadata": {},
     "output_type": "display_data"
    },
    {
     "name": "stdout",
     "output_type": "stream",
     "text": [
      "13.211631503941764 4\n",
      "16.47117474567787 5\n",
      "16.45123660761602 5\n",
      "7.481604147347784 2\n",
      "18.311947626724393 6\n",
      "15.756163330457097 5\n",
      "15.638825294139865 5\n",
      "7.481604147347784 2\n"
     ]
    },
    {
     "data": {
      "image/png": "[encoded data removed]",
      "text/plain": [
       "<Figure size 640x480 with 1 Axes>"
      ]
     },
     "metadata": {},
     "output_type": "display_data"
    },
    {
     "data": {
      "image/png": "[encoded data removed]",
      "text/plain": [
       "<Figure size 640x480 with 1 Axes>"
      ]
     },
     "metadata": {},
     "output_type": "display_data"
    }
   ],
   "source": [
    "path_GT='3_GT'\n",
    "\n",
    "for z in range(31):\n",
    "    make_ini_pic(path_GT, t=z)"
   ]
  },
  {
   "cell_type": "code",
   "execution_count": 4,
   "metadata": {},
   "outputs": [
    {
     "data": {
      "image/png": "[encoded data removed]",
      "text/plain": [
       "<Figure size 640x480 with 1 Axes>"
      ]
     },
     "metadata": {},
     "output_type": "display_data"
    },
    {
     "data": {
      "image/png": "[encoded data removed]",
      "text/plain": [
       "<Figure size 640x480 with 1 Axes>"
      ]
     },
     "metadata": {},
     "output_type": "display_data"
    },
    {
     "data": {
      "image/png": "[encoded data removed]",
      "text/plain": [
       "<Figure size 640x480 with 1 Axes>"
      ]
     },
     "metadata": {},
     "output_type": "display_data"
    },
    {
     "data": {
      "image/png": "[encoded data removed]",
      "text/plain": [
       "<Figure size 640x480 with 1 Axes>"
      ]
     },
     "metadata": {},
     "output_type": "display_data"
    },
    {
     "data": {
      "image/png": "[encoded data removed]",
      "text/plain": [
       "<Figure size 640x480 with 1 Axes>"
      ]
     },
     "metadata": {},
     "output_type": "display_data"
    },
    {
     "data": {
      "image/png": "[encoded data removed]",
      "text/plain": [
       "<Figure size 640x480 with 1 Axes>"
      ]
     },
     "metadata": {},
     "output_type": "display_data"
    },
    {
     "data": {
      "image/png": "[encoded data removed]",
      "text/plain": [
       "<Figure size 640x480 with 1 Axes>"
      ]
     },
     "metadata": {},
     "output_type": "display_data"
    },
    {
     "data": {
      "image/png": "[encoded data removed]",
      "text/plain": [
       "<Figure size 640x480 with 1 Axes>"
      ]
     },
     "metadata": {},
     "output_type": "display_data"
    },
    {
     "data": {
      "image/png": "[encoded data removed]",
      "text/plain": [
       "<Figure size 640x480 with 1 Axes>"
      ]
     },
     "metadata": {},
     "output_type": "display_data"
    },
    {
     "data": {
      "image/png": "[encoded data removed]",
      "text/plain": [
       "<Figure size 640x480 with 1 Axes>"
      ]
     },
     "metadata": {},
     "output_type": "display_data"
    },
    {
     "data": {
      "image/png": "[encoded data removed]",
      "text/plain": [
       "<Figure size 640x480 with 1 Axes>"
      ]
     },
     "metadata": {},
     "output_type": "display_data"
    },
    {
     "data": {
      "image/png": "[encoded data removed]",
      "text/plain": [
       "<Figure size 640x480 with 1 Axes>"
      ]
     },
     "metadata": {},
     "output_type": "display_data"
    },
    {
     "data": {
      "image/png": "[encoded data removed]",
      "text/plain": [
       "<Figure size 640x480 with 1 Axes>"
      ]
     },
     "metadata": {},
     "output_type": "display_data"
    },
    {
     "data": {
      "image/png": "[encoded data removed]",
      "text/plain": [
       "<Figure size 640x480 with 1 Axes>"
      ]
     },
     "metadata": {},
     "output_type": "display_data"
    },
    {
     "data": {
      "image/png": "[encoded data removed]",
      "text/plain": [
       "<Figure size 640x480 with 1 Axes>"
      ]
     },
     "metadata": {},
     "output_type": "display_data"
    },
    {
     "data": {
      "image/png": "[encoded data removed]",
      "text/plain": [
       "<Figure size 640x480 with 1 Axes>"
      ]
     },
     "metadata": {},
     "output_type": "display_data"
    },
    {
     "data": {
      "image/png": "[encoded data removed]",
      "text/plain": [
       "<Figure size 640x480 with 1 Axes>"
      ]
     },
     "metadata": {},
     "output_type": "display_data"
    },
    {
     "data": {
      "image/png": "[encoded data removed]",
      "text/plain": [
       "<Figure size 640x480 with 1 Axes>"
      ]
     },
     "metadata": {},
     "output_type": "display_data"
    },
    {
     "data": {
      "image/png": "[encoded data removed]",
      "text/plain": [
       "<Figure size 640x480 with 1 Axes>"
      ]
     },
     "metadata": {},
     "output_type": "display_data"
    },
    {
     "data": {
      "image/png": "[encoded data removed]",
      "text/plain": [
       "<Figure size 640x480 with 1 Axes>"
      ]
     },
     "metadata": {},
     "output_type": "display_data"
    },
    {
     "data": {
      "image/png": "[encoded data removed]",
      "text/plain": [
       "<Figure size 640x480 with 1 Axes>"
      ]
     },
     "metadata": {},
     "output_type": "display_data"
    },
    {
     "data": {
      "image/png": "[encoded data removed]",
      "text/plain": [
       "<Figure size 640x480 with 1 Axes>"
      ]
     },
     "metadata": {},
     "output_type": "display_data"
    },
    {
     "data": {
      "image/png": "[encoded data removed]",
      "text/plain": [
       "<Figure size 640x480 with 1 Axes>"
      ]
     },
     "metadata": {},
     "output_type": "display_data"
    },
    {
     "data": {
      "image/png": "[encoded data removed]",
      "text/plain": [
       "<Figure size 640x480 with 1 Axes>"
      ]
     },
     "metadata": {},
     "output_type": "display_data"
    },
    {
     "data": {
      "image/png": "[encoded data removed]",
      "text/plain": [
       "<Figure size 640x480 with 1 Axes>"
      ]
     },
     "metadata": {},
     "output_type": "display_data"
    },
    {
     "data": {
      "image/png": "[encoded data removed]",
      "text/plain": [
       "<Figure size 640x480 with 1 Axes>"
      ]
     },
     "metadata": {},
     "output_type": "display_data"
    },
    {
     "data": {
      "image/png": "[encoded data removed]",
      "text/plain": [
       "<Figure size 640x480 with 1 Axes>"
      ]
     },
     "metadata": {},
     "output_type": "display_data"
    },
    {
     "data": {
      "image/png": "[encoded data removed]",
      "text/plain": [
       "<Figure size 640x480 with 1 Axes>"
      ]
     },
     "metadata": {},
     "output_type": "display_data"
    },
    {
     "data": {
      "image/png": "[encoded data removed]",
      "text/plain": [
       "<Figure size 640x480 with 1 Axes>"
      ]
     },
     "metadata": {},
     "output_type": "display_data"
    },
    {
     "data": {
      "image/png": "[encoded data removed]",
      "text/plain": [
       "<Figure size 640x480 with 1 Axes>"
      ]
     },
     "metadata": {},
     "output_type": "display_data"
    },
    {
     "data": {
      "image/png": "[encoded data removed]",
      "text/plain": [
       "<Figure size 640x480 with 1 Axes>"
      ]
     },
     "metadata": {},
     "output_type": "display_data"
    }
   ],
   "source": [
    "path_GT='3_GT'\n",
    "\n",
    "for z in range(31):\n",
    "    make_circ_pic(path_GT, t=z)"
   ]
  },
  {
   "cell_type": "code",
   "execution_count": 5,
   "metadata": {},
   "outputs": [
    {
     "name": "stdout",
     "output_type": "stream",
     "text": [
      "image_files []\n",
      "circ_files ['0.jpg', '1.jpg', '2.jpg', '3.jpg', '4.jpg', '5.jpg', '6.jpg', '7.jpg', '8.jpg', '9.jpg', '10.jpg', '11.jpg', '12.jpg', '13.jpg', '14.jpg', '15.jpg', '16.jpg', '17.jpg', '18.jpg', '19.jpg', '20.jpg', '21.jpg', '22.jpg', '23.jpg', '24.jpg', '25.jpg', '26.jpg', '27.jpg', '28.jpg', '29.jpg', '30.jpg']\n"
     ]
    }
   ],
   "source": [
    "combine_images('/home/mo/Desktop/IWR/Cell_GT_Proj/dots2CNet/res_track', '/home/mo/Desktop/IWR/Cell_GT_Proj/dots2CNet/circ')"
   ]
  },
  {
   "cell_type": "code",
   "execution_count": 6,
   "metadata": {},
   "outputs": [],
   "source": [
    "#path_GT='2_GT'\n",
    "\n",
    "#for z in range(31):\n",
    "#    make_id_pic(path_GT, t=z)"
   ]
  },
  {
   "cell_type": "code",
   "execution_count": null,
   "metadata": {},
   "outputs": [],
   "source": []
  }
 ],
 "metadata": {
  "kernelspec": {
   "display_name": "Python 3 (ipykernel)",
   "language": "python",
   "name": "python3"
  },
  "language_info": {
   "codemirror_mode": {
    "name": "ipython",
    "version": 3
   },
   "file_extension": ".py",
   "mimetype": "text/x-python",
   "name": "python",
   "nbconvert_exporter": "python",
   "pygments_lexer": "ipython3",
   "version": "3.9.16"
  }
 },
 "nbformat": 4,
 "nbformat_minor": 4
}
