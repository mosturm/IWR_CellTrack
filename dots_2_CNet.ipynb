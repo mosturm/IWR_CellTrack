{
 "cells": [
  {
   "cell_type": "code",
   "execution_count": 1,
   "metadata": {},
   "outputs": [],
   "source": [
    "import numpy as np\n",
    "import cv2\n",
    "import matplotlib.pyplot as plt\n",
    "from PIL import Image\n",
    "import os\n",
    "import re"
   ]
  },
  {
   "cell_type": "code",
   "execution_count": 2,
   "metadata": {},
   "outputs": [],
   "source": [
    "def make_ini_pic(path_GT, t): \n",
    "    xl,yl,rl,idel,split_l,s_pr_l,t_vl= np.loadtxt('./'+path_GT+'/pos_GT.txt',skiprows=2, delimiter='\\t', usecols=(0,1,2,3,4,5,6), unpack=True)\n",
    "    y=(xl[t_vl==t] * 512)\n",
    "    x=((1-yl[t_vl==t]) * 512)\n",
    "    rl=rl[t_vl==t]\n",
    "\n",
    "    positions = list(zip(x, y))  # Convert x, y arrays to a list of (x, y) coordinate tuples\n",
    "    image_tensor = ind2CNet(positions,rl)  # Pass the positions list to the ind2CNet function\n",
    "\n",
    "    #image_tensor = cv2.rotate(image_tensor, cv2.ROTATE_90_COUNTERCLOCKWISE)\n",
    "   \n",
    "\n",
    " \n",
    "    save_dir='/home/mo/Desktop/IWR/Cell_GT_Proj/dots2CNet/id/'\n",
    "    \n",
    "    output_path = save_dir+str(t)+'.jpg'\n",
    "    #output_path_Y_c = save_dir+'source/'+str(start_ind+i)+'contr.png'\n",
    "\n",
    "    cv2.imwrite(output_path, image_tensor)\n",
    "    image_rgb = cv2.cvtColor(image_tensor, cv2.COLOR_GRAY2RGB)\n",
    "    plt.imshow(image_rgb)\n",
    "    plt.axis('off')\n",
    "    plt.show()\n",
    "    \n",
    "    \n",
    "def make_id_pic(path_GT, t): \n",
    "    xl,yl,rl,idel,split_l,s_pr_l,t_vl= np.loadtxt('./'+path_GT+'/pos_GT.txt',skiprows=2, delimiter='\\t', usecols=(0,1,2,3,4,5,6), unpack=True)\n",
    "    x=(xl[t_vl==t] * 512)\n",
    "    y=(yl[t_vl==t] * 512)\n",
    "    ide=idel[t_vl==t]\n",
    "\n",
    "    positions = list(zip(x, y))  # Convert x, y arrays to a list of (x, y) coordinate tuples\n",
    "    image_tensor = ind2id(positions,idel,ide)  # Pass the positions list to the ind2CNet function\n",
    "\n",
    "    image_tensor = cv2.rotate(image_tensor, cv2.ROTATE_90_COUNTERCLOCKWISE)\n",
    "   \n",
    "\n",
    " \n",
    "    save_dir='/home/mo/Desktop/IWR/Cell_GT_Proj/dots2CNet/id/'\n",
    "    \n",
    "    output_path = save_dir+str(t)+'.jpg'\n",
    "    #output_path_Y_c = save_dir+'source/'+str(start_ind+i)+'contr.png'\n",
    "\n",
    "    cv2.imwrite(output_path, image_tensor)\n",
    "    image_rgb = cv2.cvtColor(image_tensor, cv2.COLOR_GRAY2RGB)\n",
    "    plt.imshow(image_rgb)\n",
    "    plt.axis('off')\n",
    "    plt.show()\n",
    "    \n",
    "    \n",
    "    \n",
    "def make_circ_pic(path_GT, t): \n",
    "    xl,yl,rl,idel,split_l,s_pr_l,t_vl= np.loadtxt('./'+path_GT+'/pos_GT.txt',skiprows=1, delimiter='\\t', usecols=(0,1,2,3,4,5,6), unpack=True)\n",
    "    x=(xl[t_vl==t] * 512)\n",
    "    y=(yl[t_vl==t] * 512)\n",
    "    rl=rl[t_vl==t]\n",
    "\n",
    "    positions = list(zip(x, y))  # Convert x, y arrays to a list of (x, y) coordinate tuples\n",
    "    image_tensor = ind2circ(positions,rl)  # Pass the positions list to the ind2CNet function\n",
    "\n",
    "    image_tensor = cv2.rotate(image_tensor, cv2.ROTATE_90_COUNTERCLOCKWISE)\n",
    "   \n",
    "\n",
    " \n",
    "    save_dir='/home/mo/Desktop/IWR/Cell_GT_Proj/dots2CNet/'\n",
    "    \n",
    "    output_path = save_dir+'/circ/'+str(t)+'.jpg'\n",
    "    #output_path_Y_c = save_dir+'source/'+str(start_ind+i)+'contr.png'\n",
    "\n",
    "    cv2.imwrite(output_path, image_tensor)\n",
    "    #image_rgb = cv2.cvtColor(image_tensor, cv2.COLOR_GRAY2RGB)\n",
    "    #plt.imshow(image_rgb)\n",
    "    plt.axis('off')\n",
    "    plt.show()\n",
    "\n",
    "\n",
    "def ind2CNet(ind_list,values):\n",
    "\n",
    "    image_tensor =  np.zeros((512, 512),dtype=np.uint8)\n",
    "\n",
    "    # Define the radius of the ball\n",
    "    #radius = 5\n",
    "\n",
    "    # Define the color of the ball (white)\n",
    "    #color = (255, 255, 255)\n",
    "\n",
    "    # Define the list of positions\n",
    "    #positions = ind_list\n",
    "    #print('ind',ind_list)\n",
    "\n",
    "\n",
    "\n",
    "    for position, value in zip(ind_list, values):\n",
    "        x, y = int(position[0]), int(position[1])\n",
    "        radius = int(map_value_linear(value, 0.003, 0.045, 2, 8))\n",
    "        print(value,radius)\n",
    "\n",
    "        # Draw a circle with the given radius and color\n",
    "        for i in range(-radius, radius+1):\n",
    "            for j in range(-radius, radius+1):\n",
    "                if i**2 + j**2 <= radius**2:\n",
    "                    try:\n",
    "                        image_tensor[x+i, y+j] = 255\n",
    "                    except IndexError:\n",
    "                        pass\n",
    "\n",
    "    return image_tensor\n",
    "\n",
    "def sort_key(file_name):\n",
    "    # Extract the number from the file name\n",
    "    number = re.findall(r'\\d+', file_name)\n",
    "    if number:\n",
    "        return int(number[0])\n",
    "    else:\n",
    "        return 0\n",
    "\n",
    "def ind2circ(ind_list,values):\n",
    "    # Define the image tensor with 3 channels (RGB)\n",
    "    image_tensor =  np.ones((512, 512, 3), dtype=np.uint8)*255\n",
    "\n",
    "    # Define the radius of the circle\n",
    "    #radius = 15\n",
    "\n",
    "    # Define the color of the circle (red)\n",
    "    color = (0, 0, 255)\n",
    "\n",
    "    # Define the list of positions\n",
    "    #positions = ind_list\n",
    "    \n",
    "    for position, value in zip(ind_list, values):\n",
    "        x, y = int(position[0]), int(position[1])\n",
    "        radius = int(value *(15/0.035))\n",
    "        \n",
    "         # Draw a circle with the given radius and color\n",
    "        for i in range(-radius, radius+1):\n",
    "            for j in range(-radius, radius+1):\n",
    "                if (i**2 + j**2) >= (radius-1)**2 and (i**2 + j**2) <= (radius+1)**2:\n",
    "                    try:\n",
    "                        image_tensor[x+i, y+j] = color\n",
    "                    except IndexError:\n",
    "                        pass\n",
    "    return image_tensor\n",
    "\n",
    "\n",
    "def ind2id(ind_list,idel,ide):\n",
    "    \n",
    "    max_id = np.max(idel)\n",
    "    \n",
    "    c_list = np.linspace(100,255,int(max_id))\n",
    "\n",
    "    image_tensor =  np.zeros((512, 512),dtype=np.uint8)\n",
    "\n",
    "    # Define the radius of the ball\n",
    "    radius = 5\n",
    "\n",
    "    # Define the color of the ball (white)\n",
    "    #color = (255, 255, 255)\n",
    "\n",
    "    # Define the list of positions\n",
    "    positions = ind_list\n",
    "    #print('ind',ind_list)\n",
    "\n",
    "\n",
    "    k=0\n",
    "    # Loop over the positions and draw a circle around each one\n",
    "    for position in positions:\n",
    "        # Convert the position to integer coordinates\n",
    "        #try:\n",
    "        x, y = int(position[0]), int(position[1])\n",
    "        \n",
    "        print('**',x,y,ide[k],c_list[int(ide[k]-1)])\n",
    "\n",
    "        # Draw a circle with the given radius and color\n",
    "        for i in range(-radius, radius+1):\n",
    "            for j in range(-radius, radius+1):\n",
    "                if i**2 + j**2 <= radius**2:\n",
    "                    try:\n",
    "                        image_tensor[x+i, y+j] = c_list[int(ide[k]-1)]\n",
    "                    except IndexError:\n",
    "                        pass#print('IndErr',i,j)\n",
    "                    \n",
    "        k=k+1\n",
    "        #except: \n",
    "           # pass\n",
    "\n",
    "\n",
    "    return image_tensor\n",
    "\n",
    "\n",
    "def combine_images(image_folder, circle_folder):\n",
    "    # Sort file lists\n",
    "    image_files = sorted(os.listdir(image_folder),key=sort_key)\n",
    "    print('image_files',image_files)\n",
    "    circle_files = sorted(os.listdir(circle_folder),key=sort_key)\n",
    "    print('circ_files',circle_files)\n",
    "\n",
    "    for img_file, circle_file in zip(image_files, circle_files):\n",
    "        # Open the base image and the circle image\n",
    "        image = Image.open(os.path.join(image_folder, img_file))\n",
    "        circle_image = Image.open(os.path.join(circle_folder, circle_file))\n",
    "        \n",
    "        circle_image = circle_image.convert(\"RGBA\")\n",
    "        datas = circle_image.getdata()\n",
    "\n",
    "        new_data = []\n",
    "        for item in datas:\n",
    "            # change all white (also shades of whites)\n",
    "            # pixels to transparent\n",
    "            if item[1] > 40 and item[2] > 40:\n",
    "                new_data.append((item[0], item[1], item[2], 0))\n",
    "            else:\n",
    "                new_data.append(item)\n",
    "                \n",
    "        circle_image.putdata(new_data)\n",
    "\n",
    "        # Scale the circle image\n",
    "        circle_image = circle_image.resize((512, 512), Image.ANTIALIAS)\n",
    "\n",
    "        # Copy the circle layer onto the base image\n",
    "        image.paste(circle_image, (0,0), circle_image)\n",
    "\n",
    "        # Save the resulting image\n",
    "        image.save(os.path.join(image_folder, \"combined_\" + img_file))\n",
    "\n",
    "        \n",
    "        \n",
    "def map_value_linear(value, in_min, in_max, out_min, out_max):\n",
    "    # Ensure the input value is within the input range\n",
    "    value = max(min(value, in_max), in_min)\n",
    "    \n",
    "    if value==in_min:\n",
    "        return 1\n",
    "    elif value== in_max:\n",
    "        return 8\n",
    "\n",
    "    # Map the value to the output range using linear interpolation\n",
    "    return int((value - in_min) * (out_max - out_min) / (in_max - in_min) + out_min)\n"
   ]
  },
  {
   "cell_type": "code",
   "execution_count": 10,
   "metadata": {},
   "outputs": [
    {
     "name": "stdout",
     "output_type": "stream",
     "text": [
      "0.035 6\n",
      "0.036333333333333336 6\n",
      "0.034 6\n",
      "0.03766666666666666 6\n",
      "0.038000000000000006 7\n"
     ]
    },
    {
     "data": {
      "image/png": "[encoded data removed]",
      "text/plain": [
       "<Figure size 640x480 with 1 Axes>"
      ]
     },
     "metadata": {},
     "output_type": "display_data"
    },
    {
     "name": "stdout",
     "output_type": "stream",
     "text": [
      "0.038043333333333325 7\n",
      "0.03434 6\n",
      "0.038000000000000006 7\n",
      "0.035350000000000006 6\n",
      "0.036333333333333336 6\n"
     ]
    },
    {
     "data": {
      "image/png": "[encoded data removed]",
      "text/plain": [
       "<Figure size 640x480 with 1 Axes>"
      ]
     },
     "metadata": {},
     "output_type": "display_data"
    },
    {
     "name": "stdout",
     "output_type": "stream",
     "text": [
      "0.038043333333333325 7\n",
      "0.03669666666666667 6\n",
      "0.038000000000000006 7\n",
      "0.03434 6\n",
      "0.035350000000000006 6\n"
     ]
    },
    {
     "data": {
      "image/png": "[encoded data removed]",
      "text/plain": [
       "<Figure size 640x480 with 1 Axes>"
      ]
     },
     "metadata": {},
     "output_type": "display_data"
    },
    {
     "name": "stdout",
     "output_type": "stream",
     "text": [
      "0.020177965318434504 4\n",
      "0.03842376666666666 7\n",
      "0.03669666666666667 6\n",
      "0.035703500000000006 6\n",
      "0.038380000000000004 7\n"
     ]
    },
    {
     "data": {
      "image/png": "[encoded data removed]",
      "text/plain": [
       "<Figure size 640x480 with 1 Axes>"
      ]
     },
     "metadata": {},
     "output_type": "display_data"
    },
    {
     "name": "stdout",
     "output_type": "stream",
     "text": [
      "0.036060535000000005 6\n",
      "0.020177965318434504 4\n",
      "0.03706363333333334 6\n",
      "0.038380000000000004 7\n",
      "0.03842376666666666 7\n"
     ]
    },
    {
     "data": {
      "image/png": "[encoded data removed]",
      "text/plain": [
       "<Figure size 640x480 with 1 Axes>"
      ]
     },
     "metadata": {},
     "output_type": "display_data"
    },
    {
     "name": "stdout",
     "output_type": "stream",
     "text": [
      "0.03743426966666667 6\n",
      "0.036060535000000005 6\n",
      "0.008708619512531763 2\n",
      "0.038808004333333326 7\n",
      "0.03876380000000001 7\n"
     ]
    },
    {
     "data": {
      "image/png": "[encoded data removed]",
      "text/plain": [
       "<Figure size 640x480 with 1 Axes>"
      ]
     },
     "metadata": {},
     "output_type": "display_data"
    },
    {
     "name": "stdout",
     "output_type": "stream",
     "text": [
      "0.008708619512531763 2\n",
      "0.03915143800000001 7\n",
      "0.036060535000000005 6\n",
      "0.03919608437666666 7\n",
      "0.03780861236333334 6\n"
     ]
    },
    {
     "data": {
      "image/png": "[encoded data removed]",
      "text/plain": [
       "<Figure size 640x480 with 1 Axes>"
      ]
     },
     "metadata": {},
     "output_type": "display_data"
    },
    {
     "name": "stdout",
     "output_type": "stream",
     "text": [
      "0.03954295238000001 7\n",
      "0.03780861236333334 6\n",
      "0.036421140350000006 6\n",
      "0.008708619512531763 2\n",
      "0.03919608437666666 7\n"
     ]
    },
    {
     "data": {
      "image/png": "[encoded data removed]",
      "text/plain": [
       "<Figure size 640x480 with 1 Axes>"
      ]
     },
     "metadata": {},
     "output_type": "display_data"
    },
    {
     "name": "stdout",
     "output_type": "stream",
     "text": [
      "0.03780861236333334 6\n",
      "0.03958804522043333 7\n",
      "0.036785351753500006 6\n",
      "0.008708619512531763 2\n",
      "0.03993838190380001 7\n"
     ]
    },
    {
     "data": {
      "image/png": "[encoded data removed]",
      "text/plain": [
       "<Figure size 640x480 with 1 Axes>"
      ]
     },
     "metadata": {},
     "output_type": "display_data"
    },
    {
     "name": "stdout",
     "output_type": "stream",
     "text": [
      "0.00505283591686076 2\n",
      "0.021043581994039884 4\n",
      "0.00397008536324774 2\n",
      "0.03998392567263766 7\n",
      "0.03780861236333334 6\n",
      "0.03993838190380001 7\n"
     ]
    },
    {
     "data": {
      "image/png": "[encoded data removed]",
      "text/plain": [
       "<Figure size 640x480 with 1 Axes>"
      ]
     },
     "metadata": {},
     "output_type": "display_data"
    },
    {
     "name": "stdout",
     "output_type": "stream",
     "text": [
      "0.006153632313033997 2\n",
      "0.021043581994039884 4\n",
      "0.03998392567263766 7\n",
      "0.007427668797785318 2\n",
      "0.03993838190380001 7\n",
      "0.03780861236333334 6\n"
     ]
    },
    {
     "data": {
      "image/png": "[encoded data removed]",
      "text/plain": [
       "<Figure size 640x480 with 1 Axes>"
      ]
     },
     "metadata": {},
     "output_type": "display_data"
    },
    {
     "name": "stdout",
     "output_type": "stream",
     "text": [
      "0.009230448469550996 2\n",
      "0.03993838190380001 7\n",
      "0.03818669848696667 7\n",
      "0.009103077971210773 2\n",
      "0.011067226508700123 3\n",
      "0.03998392567263766 7\n"
     ]
    },
    {
     "data": {
      "image/png": "[encoded data removed]",
      "text/plain": [
       "<Figure size 640x480 with 1 Axes>"
      ]
     },
     "metadata": {},
     "output_type": "display_data"
    },
    {
     "name": "stdout",
     "output_type": "stream",
     "text": [
      "0.04033776572283801 7\n",
      "0.04038376492936403 7\n",
      "0.01626882296778918 3\n",
      "0.009103077971210773 2\n",
      "0.014214890643108534 3\n",
      "0.03856856547183634 7\n"
     ]
    },
    {
     "data": {
      "image/png": "[encoded data removed]",
      "text/plain": [
       "<Figure size 640x480 with 1 Axes>"
      ]
     },
     "metadata": {},
     "output_type": "display_data"
    },
    {
     "name": "stdout",
     "output_type": "stream",
     "text": [
      "0.04074114338006639 7\n",
      "0.009103077971210773 2\n",
      "0.040787602578657677 7\n",
      "0.023915169762650096 4\n",
      "0.038954251126554706 7\n",
      "0.02160663377752497 4\n"
     ]
    },
    {
     "data": {
      "image/png": "[encoded data removed]",
      "text/plain": [
       "<Figure size 640x480 with 1 Axes>"
      ]
     },
     "metadata": {},
     "output_type": "display_data"
    },
    {
     "name": "stdout",
     "output_type": "stream",
     "text": [
      "0.04074114338006639 7\n",
      "0.03515529955109564 6\n",
      "0.040787602578657677 7\n",
      "0.03219388432851221 6\n",
      "0.03934379363782026 7\n",
      "0.009103077971210773 2\n"
     ]
    },
    {
     "data": {
      "image/png": "[encoded data removed]",
      "text/plain": [
       "<Figure size 640x480 with 1 Axes>"
      ]
     },
     "metadata": {},
     "output_type": "display_data"
    },
    {
     "name": "stdout",
     "output_type": "stream",
     "text": [
      "0.03515529955109564 6\n",
      "0.041148554813867054 7\n",
      "0.0026267316126621734 1\n",
      "0.03251582317179733 6\n",
      "0.03973723157419846 7\n",
      "0.004127721105611989 2\n",
      "0.04119547860444425 7\n"
     ]
    },
    {
     "data": {
      "image/png": "[encoded data removed]",
      "text/plain": [
       "<Figure size 640x480 with 1 Axes>"
      ]
     },
     "metadata": {},
     "output_type": "display_data"
    },
    {
     "name": "stdout",
     "output_type": "stream",
     "text": [
      "0.03251582317179733 6\n",
      "0.041148554813867054 7\n",
      "0.03973723157419846 7\n",
      "0.0355068525466066 6\n",
      "0.006232858869474103 2\n",
      "0.041607433390488696 7\n",
      "0.003861295470613395 2\n"
     ]
    },
    {
     "data": {
      "image/png": "[encoded data removed]",
      "text/plain": [
       "<Figure size 640x480 with 1 Axes>"
      ]
     },
     "metadata": {},
     "output_type": "display_data"
    },
    {
     "name": "stdout",
     "output_type": "stream",
     "text": [
      "0.04202350772439358 7\n",
      "0.035861921072072665 6\n",
      "0.005676104341801691 2\n",
      "0.009536274070295378 2\n",
      "0.041560040362005723 7\n",
      "0.03973723157419846 7\n",
      "0.03251582317179733 6\n"
     ]
    },
    {
     "data": {
      "image/png": "[encoded data removed]",
      "text/plain": [
       "<Figure size 640x480 with 1 Axes>"
      ]
     },
     "metadata": {},
     "output_type": "display_data"
    },
    {
     "name": "stdout",
     "output_type": "stream",
     "text": [
      "0.04244374280163752 7\n",
      "0.014590499327551928 3\n",
      "0.036220540282793395 6\n",
      "0.04197564076562578 7\n",
      "0.03973723157419846 7\n",
      "0.008684439642956588 2\n",
      "0.0328409814035153 6\n"
     ]
    },
    {
     "data": {
      "image/png": "[encoded data removed]",
      "text/plain": [
       "<Figure size 640x480 with 1 Axes>"
      ]
     },
     "metadata": {},
     "output_type": "display_data"
    },
    {
     "name": "stdout",
     "output_type": "stream",
     "text": [
      "0.0328409814035153 6\n",
      "0.04244374280163752 7\n",
      "0.040134603889940446 7\n",
      "0.01285297067157575 3\n",
      "0.042395397173282036 7\n",
      "0.021593939004776852 4\n",
      "0.03658274568562133 6\n"
     ]
    },
    {
     "data": {
      "image/png": "[encoded data removed]",
      "text/plain": [
       "<Figure size 640x480 with 1 Axes>"
      ]
     },
     "metadata": {},
     "output_type": "display_data"
    },
    {
     "name": "stdout",
     "output_type": "stream",
     "text": [
      "0.03658274568562133 6\n",
      "0.03282278728726082 6\n",
      "0.033169391217550456 6\n",
      "0.042395397173282036 7\n",
      "0.019279456007363624 4\n",
      "0.040134603889940446 7\n",
      "0.0428681802296539 7\n"
     ]
    },
    {
     "data": {
      "image/png": "[encoded data removed]",
      "text/plain": [
       "<Figure size 640x480 with 1 Axes>"
      ]
     },
     "metadata": {},
     "output_type": "display_data"
    },
    {
     "name": "stdout",
     "output_type": "stream",
     "text": [
      "0.033169391217550456 6\n",
      "0.03694857314247754 6\n",
      "0.033151015160133426 6\n",
      "0.042395397173282036 7\n",
      "0.04053594992883985 7\n",
      "0.027955211210677254 5\n",
      "0.0428681802296539 7\n"
     ]
    },
    {
     "data": {
      "image/png": "[encoded data removed]",
      "text/plain": [
       "<Figure size 640x480 with 1 Axes>"
      ]
     },
     "metadata": {},
     "output_type": "display_data"
    },
    {
     "name": "stdout",
     "output_type": "stream",
     "text": [
      "0.042395397173282036 7\n",
      "0.03731805887390232 6\n",
      "0.0427714731523362 7\n",
      "0.04094130942812824 7\n",
      "0.04329686203195044 7\n",
      "0.03350108512972596 6\n",
      "0.033151015160133426 6\n"
     ]
    },
    {
     "data": {
      "image/png": "[encoded data removed]",
      "text/plain": [
       "<Figure size 640x480 with 1 Axes>"
      ]
     },
     "metadata": {},
     "output_type": "display_data"
    },
    {
     "name": "stdout",
     "output_type": "stream",
     "text": [
      "0.043729830652269944 7\n",
      "0.03731805887390232 6\n",
      "0.04281935114501486 7\n",
      "0.04319918788385956 7\n",
      "0.033151015160133426 6\n",
      "0.03383609598102322 6\n",
      "0.04094130942812824 7\n"
     ]
    },
    {
     "data": {
      "image/png": "[encoded data removed]",
      "text/plain": [
       "<Figure size 640x480 with 1 Axes>"
      ]
     },
     "metadata": {},
     "output_type": "display_data"
    },
    {
     "name": "stdout",
     "output_type": "stream",
     "text": [
      "0.033151015160133426 6\n",
      "0.043729830652269944 7\n",
      "0.03731805887390232 6\n",
      "0.03383609598102322 6\n",
      "0.04094130942812824 7\n",
      "0.04319918788385956 7\n",
      "0.043247544656465006 7\n"
     ]
    },
    {
     "data": {
      "image/png": "[encoded data removed]",
      "text/plain": [
       "<Figure size 640x480 with 1 Axes>"
      ]
     },
     "metadata": {},
     "output_type": "display_data"
    },
    {
     "name": "stdout",
     "output_type": "stream",
     "text": [
      "0.03383609598102322 6\n",
      "0.041350722522409525 7\n",
      "0.03348252531173476 6\n",
      "0.04363117976269816 7\n",
      "0.04416712895879264 7\n",
      "0.043680020103029654 7\n",
      "0.03769123946264134 6\n"
     ]
    },
    {
     "data": {
      "image/png": "[encoded data removed]",
      "text/plain": [
       "<Figure size 640x480 with 1 Axes>"
      ]
     },
     "metadata": {},
     "output_type": "display_data"
    },
    {
     "name": "stdout",
     "output_type": "stream",
     "text": [
      "0.03348252531173476 6\n",
      "0.03383609598102322 6\n",
      "0.04416712895879264 7\n",
      "0.03806815185726776 7\n",
      "0.04176422974763362 7\n",
      "0.04363117976269816 7\n",
      "0.04411682030405995 7\n"
     ]
    },
    {
     "data": {
      "image/png": "[encoded data removed]",
      "text/plain": [
       "<Figure size 640x480 with 1 Axes>"
      ]
     },
     "metadata": {},
     "output_type": "display_data"
    },
    {
     "name": "stdout",
     "output_type": "stream",
     "text": [
      "0.03417445694083345 6\n",
      "0.04363117976269816 7\n",
      "0.04411682030405995 7\n",
      "0.03806815185726776 7\n",
      "0.04460880024838057 7\n",
      "0.04218187204510996 7\n",
      "0.03348252531173476 6\n"
     ]
    },
    {
     "data": {
      "image/png": "[encoded data removed]",
      "text/plain": [
       "<Figure size 640x480 with 1 Axes>"
      ]
     },
     "metadata": {},
     "output_type": "display_data"
    },
    {
     "name": "stdout",
     "output_type": "stream",
     "text": [
      "0.03451620151024179 6\n",
      "0.03844883337584044 7\n",
      "0.04455798850710055 7\n",
      "0.04363117976269816 7\n",
      "0.04260369076556106 7\n",
      "0.03348252531173476 6\n",
      "0.04460880024838057 7\n"
     ]
    },
    {
     "data": {
      "image/png": "[encoded data removed]",
      "text/plain": [
       "<Figure size 640x480 with 1 Axes>"
      ]
     },
     "metadata": {},
     "output_type": "display_data"
    },
    {
     "name": "stdout",
     "output_type": "stream",
     "text": [
      "0.034861363525344205 6\n",
      "0.04505488825086438 8\n",
      "0.04260369076556106 7\n",
      "0.04500356839217155 8\n",
      "0.03844883337584044 7\n",
      "0.03381735056485211 6\n",
      "0.04363117976269816 7\n"
     ]
    },
    {
     "data": {
      "image/png": "[encoded data removed]",
      "text/plain": [
       "<Figure size 640x480 with 1 Axes>"
      ]
     },
     "metadata": {},
     "output_type": "display_data"
    },
    {
     "name": "stdout",
     "output_type": "stream",
     "text": [
      "0.04545360407609327 8\n",
      "0.03415552407050063 6\n",
      "0.03520997716059765 6\n",
      "0.045505437133373024 8\n",
      "0.04363117976269816 7\n",
      "0.04260369076556106 7\n",
      "0.03844883337584044 7\n"
     ]
    },
    {
     "data": {
      "image/png": "[encoded data removed]",
      "text/plain": [
       "<Figure size 640x480 with 1 Axes>"
      ]
     },
     "metadata": {},
     "output_type": "display_data"
    }
   ],
   "source": [
    "path_GT='1_GT'\n",
    "\n",
    "for z in range(31):\n",
    "    make_ini_pic(path_GT, t=z)"
   ]
  },
  {
   "cell_type": "code",
   "execution_count": 11,
   "metadata": {},
   "outputs": [
    {
     "data": {
      "image/png": "[encoded data removed]",
      "text/plain": [
       "<Figure size 640x480 with 1 Axes>"
      ]
     },
     "metadata": {},
     "output_type": "display_data"
    },
    {
     "data": {
      "image/png": "[encoded data removed]",
      "text/plain": [
       "<Figure size 640x480 with 1 Axes>"
      ]
     },
     "metadata": {},
     "output_type": "display_data"
    },
    {
     "data": {
      "image/png": "[encoded data removed]",
      "text/plain": [
       "<Figure size 640x480 with 1 Axes>"
      ]
     },
     "metadata": {},
     "output_type": "display_data"
    },
    {
     "data": {
      "image/png": "[encoded data removed]",
      "text/plain": [
       "<Figure size 640x480 with 1 Axes>"
      ]
     },
     "metadata": {},
     "output_type": "display_data"
    },
    {
     "data": {
      "image/png": "[encoded data removed]",
      "text/plain": [
       "<Figure size 640x480 with 1 Axes>"
      ]
     },
     "metadata": {},
     "output_type": "display_data"
    },
    {
     "data": {
      "image/png": "[encoded data removed]",
      "text/plain": [
       "<Figure size 640x480 with 1 Axes>"
      ]
     },
     "metadata": {},
     "output_type": "display_data"
    },
    {
     "data": {
      "image/png": "[encoded data removed]",
      "text/plain": [
       "<Figure size 640x480 with 1 Axes>"
      ]
     },
     "metadata": {},
     "output_type": "display_data"
    },
    {
     "data": {
      "image/png": "[encoded data removed]",
      "text/plain": [
       "<Figure size 640x480 with 1 Axes>"
      ]
     },
     "metadata": {},
     "output_type": "display_data"
    },
    {
     "data": {
      "image/png": "[encoded data removed]",
      "text/plain": [
       "<Figure size 640x480 with 1 Axes>"
      ]
     },
     "metadata": {},
     "output_type": "display_data"
    },
    {
     "data": {
      "image/png": "[encoded data removed]",
      "text/plain": [
       "<Figure size 640x480 with 1 Axes>"
      ]
     },
     "metadata": {},
     "output_type": "display_data"
    },
    {
     "data": {
      "image/png": "[encoded data removed]",
      "text/plain": [
       "<Figure size 640x480 with 1 Axes>"
      ]
     },
     "metadata": {},
     "output_type": "display_data"
    },
    {
     "data": {
      "image/png": "[encoded data removed]",
      "text/plain": [
       "<Figure size 640x480 with 1 Axes>"
      ]
     },
     "metadata": {},
     "output_type": "display_data"
    },
    {
     "data": {
      "image/png": "[encoded data removed]",
      "text/plain": [
       "<Figure size 640x480 with 1 Axes>"
      ]
     },
     "metadata": {},
     "output_type": "display_data"
    },
    {
     "data": {
      "image/png": "[encoded data removed]",
      "text/plain": [
       "<Figure size 640x480 with 1 Axes>"
      ]
     },
     "metadata": {},
     "output_type": "display_data"
    },
    {
     "data": {
      "image/png": "[encoded data removed]",
      "text/plain": [
       "<Figure size 640x480 with 1 Axes>"
      ]
     },
     "metadata": {},
     "output_type": "display_data"
    },
    {
     "data": {
      "image/png": "[encoded data removed]",
      "text/plain": [
       "<Figure size 640x480 with 1 Axes>"
      ]
     },
     "metadata": {},
     "output_type": "display_data"
    },
    {
     "data": {
      "image/png": "[encoded data removed]",
      "text/plain": [
       "<Figure size 640x480 with 1 Axes>"
      ]
     },
     "metadata": {},
     "output_type": "display_data"
    },
    {
     "data": {
      "image/png": "[encoded data removed]",
      "text/plain": [
       "<Figure size 640x480 with 1 Axes>"
      ]
     },
     "metadata": {},
     "output_type": "display_data"
    },
    {
     "data": {
      "image/png": "[encoded data removed]",
      "text/plain": [
       "<Figure size 640x480 with 1 Axes>"
      ]
     },
     "metadata": {},
     "output_type": "display_data"
    },
    {
     "data": {
      "image/png": "[encoded data removed]",
      "text/plain": [
       "<Figure size 640x480 with 1 Axes>"
      ]
     },
     "metadata": {},
     "output_type": "display_data"
    },
    {
     "data": {
      "image/png": "[encoded data removed]",
      "text/plain": [
       "<Figure size 640x480 with 1 Axes>"
      ]
     },
     "metadata": {},
     "output_type": "display_data"
    },
    {
     "data": {
      "image/png": "[encoded data removed]",
      "text/plain": [
       "<Figure size 640x480 with 1 Axes>"
      ]
     },
     "metadata": {},
     "output_type": "display_data"
    },
    {
     "data": {
      "image/png": "[encoded data removed]",
      "text/plain": [
       "<Figure size 640x480 with 1 Axes>"
      ]
     },
     "metadata": {},
     "output_type": "display_data"
    },
    {
     "data": {
      "image/png": "[encoded data removed]",
      "text/plain": [
       "<Figure size 640x480 with 1 Axes>"
      ]
     },
     "metadata": {},
     "output_type": "display_data"
    },
    {
     "data": {
      "image/png": "[encoded data removed]",
      "text/plain": [
       "<Figure size 640x480 with 1 Axes>"
      ]
     },
     "metadata": {},
     "output_type": "display_data"
    },
    {
     "data": {
      "image/png": "[encoded data removed]",
      "text/plain": [
       "<Figure size 640x480 with 1 Axes>"
      ]
     },
     "metadata": {},
     "output_type": "display_data"
    },
    {
     "data": {
      "image/png": "[encoded data removed]",
      "text/plain": [
       "<Figure size 640x480 with 1 Axes>"
      ]
     },
     "metadata": {},
     "output_type": "display_data"
    },
    {
     "data": {
      "image/png": "[encoded data removed]",
      "text/plain": [
       "<Figure size 640x480 with 1 Axes>"
      ]
     },
     "metadata": {},
     "output_type": "display_data"
    },
    {
     "data": {
      "image/png": "[encoded data removed]",
      "text/plain": [
       "<Figure size 640x480 with 1 Axes>"
      ]
     },
     "metadata": {},
     "output_type": "display_data"
    },
    {
     "data": {
      "image/png": "[encoded data removed]",
      "text/plain": [
       "<Figure size 640x480 with 1 Axes>"
      ]
     },
     "metadata": {},
     "output_type": "display_data"
    },
    {
     "data": {
      "image/png": "[encoded data removed]",
      "text/plain": [
       "<Figure size 640x480 with 1 Axes>"
      ]
     },
     "metadata": {},
     "output_type": "display_data"
    }
   ],
   "source": [
    "path_GT='1_GT'\n",
    "\n",
    "for z in range(31):\n",
    "    make_circ_pic(path_GT, t=z)"
   ]
  },
  {
   "cell_type": "code",
   "execution_count": 12,
   "metadata": {},
   "outputs": [
    {
     "name": "stdout",
     "output_type": "stream",
     "text": [
      "image_files ['0.png', '1.png', '2.png', '3.png', '4.png', '5.png', '6.png', '7.png', '8.png', '9.png', '10.png', '11.png', '12.png', '13.png', '14.png', '15.png', '16.png', '17.png', '18.png', '19.png', '20.png', '21.png', '22.png', '23.png', '24.png', '25.png', '26.png', '27.png', '28.png', '29.png', '30.png']\n",
      "circ_files ['0.jpg', '1.jpg', '2.jpg', '3.jpg', '4.jpg', '5.jpg', '6.jpg', '7.jpg', '8.jpg', '9.jpg', '10.jpg', '11.jpg', '12.jpg', '13.jpg', '14.jpg', '15.jpg', '16.jpg', '17.jpg', '18.jpg', '19.jpg', '20.jpg', '21.jpg', '22.jpg', '23.jpg', '24.jpg', '25.jpg', '26.jpg', '27.jpg', '28.jpg', '29.jpg', '30.jpg']\n"
     ]
    },
    {
     "name": "stderr",
     "output_type": "stream",
     "text": [
      "/tmp/ipykernel_108548/2787333861.py:217: DeprecationWarning: ANTIALIAS is deprecated and will be removed in Pillow 10 (2023-07-01). Use LANCZOS or Resampling.LANCZOS instead.\n",
      "  circle_image = circle_image.resize((512, 512), Image.ANTIALIAS)\n"
     ]
    }
   ],
   "source": [
    "combine_images('/home/mo/Desktop/IWR/Cell_GT_Proj/dots2CNet/res_track', '/home/mo/Desktop/IWR/Cell_GT_Proj/dots2CNet/circ')"
   ]
  },
  {
   "cell_type": "code",
   "execution_count": 6,
   "metadata": {},
   "outputs": [],
   "source": [
    "#path_GT='2_GT'\n",
    "\n",
    "#for z in range(31):\n",
    "#    make_id_pic(path_GT, t=z)"
   ]
  },
  {
   "cell_type": "code",
   "execution_count": null,
   "metadata": {},
   "outputs": [],
   "source": []
  }
 ],
 "metadata": {
  "kernelspec": {
   "display_name": "Python 3 (ipykernel)",
   "language": "python",
   "name": "python3"
  },
  "language_info": {
   "codemirror_mode": {
    "name": "ipython",
    "version": 3
   },
   "file_extension": ".py",
   "mimetype": "text/x-python",
   "name": "python",
   "nbconvert_exporter": "python",
   "pygments_lexer": "ipython3",
   "version": "3.9.16"
  }
 },
 "nbformat": 4,
 "nbformat_minor": 4
}
