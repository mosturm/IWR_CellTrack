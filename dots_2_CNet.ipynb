{
 "cells": [
  {
   "cell_type": "code",
   "execution_count": 10,
   "metadata": {},
   "outputs": [],
   "source": [
    "import numpy as np\n",
    "import cv2\n",
    "import matplotlib.pyplot as plt"
   ]
  },
  {
   "cell_type": "code",
   "execution_count": 23,
   "metadata": {},
   "outputs": [],
   "source": [
    "def make_ini_pic(path_GT, t): \n",
    "    xl,yl,rl,idel,split_l,s_pr_l,t_vl= np.loadtxt('./'+path_GT+'/pos_GT.txt',skiprows=1, delimiter='\\t', usecols=(0,1,2,3,4,5,6), unpack=True)\n",
    "    x=(xl[t_vl==t] * 512)\n",
    "    y=(yl[t_vl==t] * 512)\n",
    "\n",
    "    positions = list(zip(x, y))  # Convert x, y arrays to a list of (x, y) coordinate tuples\n",
    "    image_tensor = ind2CNet(positions)  # Pass the positions list to the ind2CNet function\n",
    "\n",
    "    image_tensor = cv2.rotate(image_tensor, cv2.ROTATE_90_COUNTERCLOCKWISE)\n",
    "   \n",
    "\n",
    " \n",
    "    save_dir='/home/mo/Desktop/IWR/Cell_GT_Proj/dots2CNet/'\n",
    "    \n",
    "    output_path = save_dir+str(t)+'.png'\n",
    "    #output_path_Y_c = save_dir+'source/'+str(start_ind+i)+'contr.png'\n",
    "\n",
    "    cv2.imwrite(output_path, image_tensor)\n",
    "    image_rgb = cv2.cvtColor(image_tensor, cv2.COLOR_GRAY2RGB)\n",
    "    plt.imshow(image_rgb)\n",
    "    plt.axis('off')\n",
    "    plt.show()\n",
    "\n",
    "def ind2CNet(ind_list):\n",
    "\n",
    "    image_tensor =  np.zeros((512, 512),dtype=np.uint8)\n",
    "\n",
    "    # Define the radius of the ball\n",
    "    radius = 5\n",
    "\n",
    "    # Define the color of the ball (white)\n",
    "    #color = (255, 255, 255)\n",
    "\n",
    "    # Define the list of positions\n",
    "    positions = ind_list\n",
    "    #print('ind',ind_list)\n",
    "\n",
    "\n",
    "\n",
    "    # Loop over the positions and draw a circle around each one\n",
    "    for position in positions:\n",
    "        # Convert the position to integer coordinates\n",
    "        #try:\n",
    "        x, y = int(position[0]), int(position[1])\n",
    "\n",
    "        # Draw a circle with the given radius and color\n",
    "        for i in range(-radius, radius+1):\n",
    "            for j in range(-radius, radius+1):\n",
    "                if i**2 + j**2 <= radius**2:\n",
    "                    try:\n",
    "                        image_tensor[x+i, y+j] = 255\n",
    "                    except IndexError:\n",
    "                        pass#print('IndErr',i,j)\n",
    "        #except: \n",
    "           # pass\n",
    "\n",
    "\n",
    "    return image_tensor"
   ]
  },
  {
   "cell_type": "code",
   "execution_count": 24,
   "metadata": {},
   "outputs": [
    {
     "data": {
      "image/png": "[encoded data removed]",
      "text/plain": [
       "<Figure size 640x480 with 1 Axes>"
      ]
     },
     "metadata": {},
     "output_type": "display_data"
    }
   ],
   "source": [
    "path_GT='2_GT'\n",
    "\n",
    "make_ini_pic(path_GT, t=30)"
   ]
  },
  {
   "cell_type": "code",
   "execution_count": null,
   "metadata": {},
   "outputs": [],
   "source": []
  },
  {
   "cell_type": "code",
   "execution_count": null,
   "metadata": {},
   "outputs": [],
   "source": []
  }
 ],
 "metadata": {
  "kernelspec": {
   "display_name": "Python 3 (ipykernel)",
   "language": "python",
   "name": "python3"
  },
  "language_info": {
   "codemirror_mode": {
    "name": "ipython",
    "version": 3
   },
   "file_extension": ".py",
   "mimetype": "text/x-python",
   "name": "python",
   "nbconvert_exporter": "python",
   "pygments_lexer": "ipython3",
   "version": "3.9.16"
  }
 },
 "nbformat": 4,
 "nbformat_minor": 4
}
